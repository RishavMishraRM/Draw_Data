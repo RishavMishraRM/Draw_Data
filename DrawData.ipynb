{
 "cells": [
  {
   "cell_type": "code",
   "execution_count": 1,
   "metadata": {},
   "outputs": [
    {
     "name": "stdout",
     "output_type": "stream",
     "text": [
      "Collecting drawdata\n",
      "  Downloading drawdata-0.2.0-py2.py3-none-any.whl (2.0 kB)\n",
      "Collecting jupyter>=1.0.0\n",
      "  Using cached jupyter-1.0.0-py2.py3-none-any.whl (2.7 kB)\n",
      "Requirement already satisfied: ipython>=7.16.1 in c:\\users\\rishav\\appdata\\roaming\\python\\python37\\site-packages (from drawdata) (7.18.1)\n",
      "Requirement already satisfied: notebook in c:\\users\\rishav\\anaconda3\\envs\\tensorflow_env\\lib\\site-packages (from jupyter>=1.0.0->drawdata) (6.1.1)\n",
      "Requirement already satisfied: nbconvert in c:\\users\\rishav\\anaconda3\\envs\\tensorflow_env\\lib\\site-packages (from jupyter>=1.0.0->drawdata) (5.6.1)\n",
      "Collecting jupyter-console\n",
      "  Downloading jupyter_console-6.4.0-py3-none-any.whl (22 kB)\n",
      "Collecting qtconsole\n",
      "  Downloading qtconsole-5.0.3-py3-none-any.whl (119 kB)\n",
      "Requirement already satisfied: ipykernel in c:\\users\\rishav\\appdata\\roaming\\python\\python37\\site-packages (from jupyter>=1.0.0->drawdata) (5.3.4)\n",
      "Requirement already satisfied: ipywidgets in c:\\users\\rishav\\anaconda3\\envs\\tensorflow_env\\lib\\site-packages (from jupyter>=1.0.0->drawdata) (7.6.3)\n",
      "Requirement already satisfied: backcall in c:\\users\\rishav\\appdata\\roaming\\python\\python37\\site-packages (from ipython>=7.16.1->drawdata) (0.2.0)\n",
      "Requirement already satisfied: prompt-toolkit!=3.0.0,!=3.0.1,<3.1.0,>=2.0.0 in c:\\users\\rishav\\appdata\\roaming\\python\\python37\\site-packages (from ipython>=7.16.1->drawdata) (3.0.7)\n",
      "Requirement already satisfied: jedi>=0.10 in c:\\users\\rishav\\appdata\\roaming\\python\\python37\\site-packages (from ipython>=7.16.1->drawdata) (0.17.2)\n",
      "Requirement already satisfied: colorama; sys_platform == \"win32\" in c:\\users\\rishav\\anaconda3\\envs\\tensorflow_env\\lib\\site-packages (from ipython>=7.16.1->drawdata) (0.4.3)\n",
      "Requirement already satisfied: pickleshare in c:\\users\\rishav\\appdata\\roaming\\python\\python37\\site-packages (from ipython>=7.16.1->drawdata) (0.7.5)\n",
      "Requirement already satisfied: traitlets>=4.2 in c:\\users\\rishav\\appdata\\roaming\\python\\python37\\site-packages (from ipython>=7.16.1->drawdata) (5.0.4)\n",
      "Requirement already satisfied: pygments in c:\\users\\rishav\\appdata\\roaming\\python\\python37\\site-packages (from ipython>=7.16.1->drawdata) (2.7.1)\n",
      "Requirement already satisfied: decorator in c:\\users\\rishav\\appdata\\roaming\\python\\python37\\site-packages (from ipython>=7.16.1->drawdata) (4.4.2)\n",
      "Requirement already satisfied: setuptools>=18.5 in c:\\users\\rishav\\anaconda3\\envs\\tensorflow_env\\lib\\site-packages (from ipython>=7.16.1->drawdata) (49.6.0.post20200814)\n",
      "Requirement already satisfied: pyzmq>=17 in c:\\users\\rishav\\appdata\\roaming\\python\\python37\\site-packages (from notebook->jupyter>=1.0.0->drawdata) (19.0.2)\n",
      "Requirement already satisfied: nbformat in c:\\users\\rishav\\anaconda3\\envs\\tensorflow_env\\lib\\site-packages (from notebook->jupyter>=1.0.0->drawdata) (5.0.7)\n",
      "Requirement already satisfied: tornado>=5.0 in c:\\users\\rishav\\appdata\\roaming\\python\\python37\\site-packages (from notebook->jupyter>=1.0.0->drawdata) (6.0.4)\n",
      "Requirement already satisfied: ipython-genutils in c:\\users\\rishav\\appdata\\roaming\\python\\python37\\site-packages (from notebook->jupyter>=1.0.0->drawdata) (0.2.0)\n",
      "Requirement already satisfied: argon2-cffi in c:\\users\\rishav\\anaconda3\\envs\\tensorflow_env\\lib\\site-packages (from notebook->jupyter>=1.0.0->drawdata) (20.1.0)\n",
      "Requirement already satisfied: jupyter-core>=4.6.1 in c:\\users\\rishav\\appdata\\roaming\\python\\python37\\site-packages (from notebook->jupyter>=1.0.0->drawdata) (4.6.3)\n",
      "Requirement already satisfied: Send2Trash in c:\\users\\rishav\\anaconda3\\envs\\tensorflow_env\\lib\\site-packages (from notebook->jupyter>=1.0.0->drawdata) (1.5.0)\n",
      "Requirement already satisfied: terminado>=0.8.3 in c:\\users\\rishav\\anaconda3\\envs\\tensorflow_env\\lib\\site-packages (from notebook->jupyter>=1.0.0->drawdata) (0.8.3)\n",
      "Requirement already satisfied: jupyter-client>=5.3.4 in c:\\users\\rishav\\appdata\\roaming\\python\\python37\\site-packages (from notebook->jupyter>=1.0.0->drawdata) (6.1.7)\n",
      "Requirement already satisfied: prometheus-client in c:\\users\\rishav\\anaconda3\\envs\\tensorflow_env\\lib\\site-packages (from notebook->jupyter>=1.0.0->drawdata) (0.8.0)\n",
      "Requirement already satisfied: jinja2 in c:\\users\\rishav\\anaconda3\\envs\\tensorflow_env\\lib\\site-packages (from notebook->jupyter>=1.0.0->drawdata) (2.11.2)\n",
      "Requirement already satisfied: bleach in c:\\users\\rishav\\anaconda3\\envs\\tensorflow_env\\lib\\site-packages (from nbconvert->jupyter>=1.0.0->drawdata) (3.1.5)\n",
      "Requirement already satisfied: testpath in c:\\users\\rishav\\anaconda3\\envs\\tensorflow_env\\lib\\site-packages (from nbconvert->jupyter>=1.0.0->drawdata) (0.4.4)\n",
      "Requirement already satisfied: pandocfilters>=1.4.1 in c:\\users\\rishav\\anaconda3\\envs\\tensorflow_env\\lib\\site-packages (from nbconvert->jupyter>=1.0.0->drawdata) (1.4.2)\n",
      "Requirement already satisfied: mistune<2,>=0.8.1 in c:\\users\\rishav\\anaconda3\\envs\\tensorflow_env\\lib\\site-packages (from nbconvert->jupyter>=1.0.0->drawdata) (0.8.4)\n",
      "Requirement already satisfied: entrypoints>=0.2.2 in c:\\users\\rishav\\anaconda3\\envs\\tensorflow_env\\lib\\site-packages (from nbconvert->jupyter>=1.0.0->drawdata) (0.3)\n",
      "Requirement already satisfied: defusedxml in c:\\users\\rishav\\anaconda3\\envs\\tensorflow_env\\lib\\site-packages (from nbconvert->jupyter>=1.0.0->drawdata) (0.6.0)\n",
      "Collecting qtpy\n",
      "  Using cached QtPy-1.9.0-py2.py3-none-any.whl (54 kB)\n",
      "Requirement already satisfied: widgetsnbextension~=3.5.0 in c:\\users\\rishav\\anaconda3\\envs\\tensorflow_env\\lib\\site-packages (from ipywidgets->jupyter>=1.0.0->drawdata) (3.5.1)\n",
      "Requirement already satisfied: jupyterlab-widgets>=1.0.0; python_version >= \"3.6\" in c:\\users\\rishav\\anaconda3\\envs\\tensorflow_env\\lib\\site-packages (from ipywidgets->jupyter>=1.0.0->drawdata) (1.0.0)\n",
      "Requirement already satisfied: wcwidth in c:\\users\\rishav\\appdata\\roaming\\python\\python37\\site-packages (from prompt-toolkit!=3.0.0,!=3.0.1,<3.1.0,>=2.0.0->ipython>=7.16.1->drawdata) (0.2.5)\n",
      "Requirement already satisfied: parso<0.8.0,>=0.7.0 in c:\\users\\rishav\\appdata\\roaming\\python\\python37\\site-packages (from jedi>=0.10->ipython>=7.16.1->drawdata) (0.7.1)\n",
      "Requirement already satisfied: jsonschema!=2.5.0,>=2.4 in c:\\users\\rishav\\anaconda3\\envs\\tensorflow_env\\lib\\site-packages (from nbformat->notebook->jupyter>=1.0.0->drawdata) (3.2.0)\n",
      "Requirement already satisfied: cffi>=1.0.0 in c:\\users\\rishav\\anaconda3\\envs\\tensorflow_env\\lib\\site-packages (from argon2-cffi->notebook->jupyter>=1.0.0->drawdata) (1.14.2)\n",
      "Requirement already satisfied: six in c:\\users\\rishav\\appdata\\roaming\\python\\python37\\site-packages (from argon2-cffi->notebook->jupyter>=1.0.0->drawdata) (1.15.0)\n",
      "Requirement already satisfied: pywin32>=1.0; sys_platform == \"win32\" in c:\\users\\rishav\\anaconda3\\envs\\tensorflow_env\\lib\\site-packages (from jupyter-core>=4.6.1->notebook->jupyter>=1.0.0->drawdata) (227)\n",
      "Requirement already satisfied: python-dateutil>=2.1 in c:\\users\\rishav\\appdata\\roaming\\python\\python37\\site-packages (from jupyter-client>=5.3.4->notebook->jupyter>=1.0.0->drawdata) (2.8.1)\n",
      "Requirement already satisfied: MarkupSafe>=0.23 in c:\\users\\rishav\\anaconda3\\envs\\tensorflow_env\\lib\\site-packages (from jinja2->notebook->jupyter>=1.0.0->drawdata) (1.1.1)\n",
      "Requirement already satisfied: packaging in c:\\users\\rishav\\anaconda3\\envs\\tensorflow_env\\lib\\site-packages (from bleach->nbconvert->jupyter>=1.0.0->drawdata) (20.4)\n",
      "Requirement already satisfied: webencodings in c:\\users\\rishav\\anaconda3\\envs\\tensorflow_env\\lib\\site-packages (from bleach->nbconvert->jupyter>=1.0.0->drawdata) (0.5.1)\n",
      "Requirement already satisfied: importlib-metadata; python_version < \"3.8\" in c:\\users\\rishav\\anaconda3\\envs\\tensorflow_env\\lib\\site-packages (from jsonschema!=2.5.0,>=2.4->nbformat->notebook->jupyter>=1.0.0->drawdata) (1.7.0)\n",
      "Requirement already satisfied: pyrsistent>=0.14.0 in c:\\users\\rishav\\anaconda3\\envs\\tensorflow_env\\lib\\site-packages (from jsonschema!=2.5.0,>=2.4->nbformat->notebook->jupyter>=1.0.0->drawdata) (0.16.0)\n",
      "Requirement already satisfied: attrs>=17.4.0 in c:\\users\\rishav\\anaconda3\\envs\\tensorflow_env\\lib\\site-packages (from jsonschema!=2.5.0,>=2.4->nbformat->notebook->jupyter>=1.0.0->drawdata) (20.1.0)\n",
      "Requirement already satisfied: pycparser in c:\\users\\rishav\\anaconda3\\envs\\tensorflow_env\\lib\\site-packages (from cffi>=1.0.0->argon2-cffi->notebook->jupyter>=1.0.0->drawdata) (2.20)\n",
      "Requirement already satisfied: pyparsing>=2.0.2 in c:\\users\\rishav\\anaconda3\\envs\\tensorflow_env\\lib\\site-packages (from packaging->bleach->nbconvert->jupyter>=1.0.0->drawdata) (2.4.7)\n",
      "Requirement already satisfied: zipp>=0.5 in c:\\users\\rishav\\anaconda3\\envs\\tensorflow_env\\lib\\site-packages (from importlib-metadata; python_version < \"3.8\"->jsonschema!=2.5.0,>=2.4->nbformat->notebook->jupyter>=1.0.0->drawdata) (3.1.0)\n",
      "Installing collected packages: jupyter-console, qtpy, qtconsole, jupyter, drawdata\n",
      "Successfully installed drawdata-0.2.0 jupyter-1.0.0 jupyter-console-6.4.0 qtconsole-5.0.3 qtpy-1.9.0\n"
     ]
    }
   ],
   "source": [
    "!pip install drawdata"
   ]
  },
  {
   "cell_type": "code",
   "execution_count": 2,
   "metadata": {},
   "outputs": [],
   "source": [
    "from drawdata import draw_line, draw_scatter, draw_histogram"
   ]
  },
  {
   "cell_type": "code",
   "execution_count": 3,
   "metadata": {},
   "outputs": [
    {
     "data": {
      "text/html": [
       "\n",
       "        <iframe\n",
       "            width=\"800\"\n",
       "            height=\"550\"\n",
       "            src=\"https://drawdata.xyz/scatter.html\"\n",
       "            frameborder=\"0\"\n",
       "            allowfullscreen\n",
       "        ></iframe>\n",
       "        "
      ],
      "text/plain": [
       "<IPython.lib.display.IFrame at 0x1eb38988f08>"
      ]
     },
     "execution_count": 3,
     "metadata": {},
     "output_type": "execute_result"
    }
   ],
   "source": [
    "draw_scatter()"
   ]
  },
  {
   "cell_type": "code",
   "execution_count": 5,
   "metadata": {},
   "outputs": [
    {
     "data": {
      "text/html": [
       "<div>\n",
       "<style scoped>\n",
       "    .dataframe tbody tr th:only-of-type {\n",
       "        vertical-align: middle;\n",
       "    }\n",
       "\n",
       "    .dataframe tbody tr th {\n",
       "        vertical-align: top;\n",
       "    }\n",
       "\n",
       "    .dataframe thead th {\n",
       "        text-align: right;\n",
       "    }\n",
       "</style>\n",
       "<table border=\"1\" class=\"dataframe\">\n",
       "  <thead>\n",
       "    <tr style=\"text-align: right;\">\n",
       "      <th></th>\n",
       "      <th>x</th>\n",
       "      <th>y</th>\n",
       "      <th>z</th>\n",
       "    </tr>\n",
       "  </thead>\n",
       "  <tbody>\n",
       "    <tr>\n",
       "      <th>0</th>\n",
       "      <td>40.091037</td>\n",
       "      <td>502.240445</td>\n",
       "      <td>a</td>\n",
       "    </tr>\n",
       "    <tr>\n",
       "      <th>1</th>\n",
       "      <td>4.468597</td>\n",
       "      <td>452.632849</td>\n",
       "      <td>a</td>\n",
       "    </tr>\n",
       "    <tr>\n",
       "      <th>2</th>\n",
       "      <td>34.713573</td>\n",
       "      <td>475.283808</td>\n",
       "      <td>a</td>\n",
       "    </tr>\n",
       "    <tr>\n",
       "      <th>3</th>\n",
       "      <td>2.398856</td>\n",
       "      <td>453.203825</td>\n",
       "      <td>a</td>\n",
       "    </tr>\n",
       "    <tr>\n",
       "      <th>4</th>\n",
       "      <td>63.672359</td>\n",
       "      <td>497.704132</td>\n",
       "      <td>a</td>\n",
       "    </tr>\n",
       "    <tr>\n",
       "      <th>...</th>\n",
       "      <td>...</td>\n",
       "      <td>...</td>\n",
       "      <td>...</td>\n",
       "    </tr>\n",
       "    <tr>\n",
       "      <th>59</th>\n",
       "      <td>689.458678</td>\n",
       "      <td>15.901009</td>\n",
       "      <td>d</td>\n",
       "    </tr>\n",
       "    <tr>\n",
       "      <th>60</th>\n",
       "      <td>666.421785</td>\n",
       "      <td>12.331326</td>\n",
       "      <td>d</td>\n",
       "    </tr>\n",
       "    <tr>\n",
       "      <th>61</th>\n",
       "      <td>654.066826</td>\n",
       "      <td>13.441367</td>\n",
       "      <td>d</td>\n",
       "    </tr>\n",
       "    <tr>\n",
       "      <th>62</th>\n",
       "      <td>677.677026</td>\n",
       "      <td>-4.027696</td>\n",
       "      <td>d</td>\n",
       "    </tr>\n",
       "    <tr>\n",
       "      <th>63</th>\n",
       "      <td>646.110492</td>\n",
       "      <td>29.389469</td>\n",
       "      <td>d</td>\n",
       "    </tr>\n",
       "  </tbody>\n",
       "</table>\n",
       "<p>64 rows × 3 columns</p>\n",
       "</div>"
      ],
      "text/plain": [
       "             x           y  z\n",
       "0    40.091037  502.240445  a\n",
       "1     4.468597  452.632849  a\n",
       "2    34.713573  475.283808  a\n",
       "3     2.398856  453.203825  a\n",
       "4    63.672359  497.704132  a\n",
       "..         ...         ... ..\n",
       "59  689.458678   15.901009  d\n",
       "60  666.421785   12.331326  d\n",
       "61  654.066826   13.441367  d\n",
       "62  677.677026   -4.027696  d\n",
       "63  646.110492   29.389469  d\n",
       "\n",
       "[64 rows x 3 columns]"
      ]
     },
     "execution_count": 5,
     "metadata": {},
     "output_type": "execute_result"
    }
   ],
   "source": [
    "import pandas as pd\n",
    "pd.read_clipboard(sep=\",\")"
   ]
  },
  {
   "cell_type": "code",
   "execution_count": null,
   "metadata": {},
   "outputs": [],
   "source": []
  }
 ],
 "metadata": {
  "kernelspec": {
   "display_name": "Python 3",
   "language": "python",
   "name": "python3"
  },
  "language_info": {
   "codemirror_mode": {
    "name": "ipython",
    "version": 3
   },
   "file_extension": ".py",
   "mimetype": "text/x-python",
   "name": "python",
   "nbconvert_exporter": "python",
   "pygments_lexer": "ipython3",
   "version": "3.7.7"
  }
 },
 "nbformat": 4,
 "nbformat_minor": 4
}
